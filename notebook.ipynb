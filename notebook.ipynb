{
  "cells": [
    {
      "cell_type": "markdown",
      "metadata": {
        "id": "q4YnnUuVAUEx"
      },
      "source": [
        "# **Case study: Analysis and Optimization of Energy Consumption**"
      ]
    },
    {
      "cell_type": "markdown",
      "metadata": {
        "id": "7F0n0vFLzB4V"
      },
      "source": [
        "### Necessary imports"
      ]
    },
    {
      "cell_type": "code",
      "execution_count": 3,
      "metadata": {
        "id": "GCwgD2C0zB4W"
      },
      "outputs": [],
      "source": [
        "import pandas as pd\n",
        "import numpy as np\n",
        "\n",
        "import matplotlib.pyplot as plt\n",
        "import seaborn as sns\n",
        "\n",
        "from sklearn.preprocessing import LabelEncoder"
      ]
    },
    {
      "cell_type": "markdown",
      "metadata": {
        "id": "rxmYE38WzB4Y"
      },
      "source": [
        "# **Phase 1: Data collection and preparation**\n",
        "\n",
        "Objective: Prepare a clean, usable dataset for analysis and modeling."
      ]
    },
    {
      "cell_type": "markdown",
      "metadata": {
        "id": "nCohYgfrzB4Z"
      },
      "source": [
        "## 1- Data collection\n",
        "\n",
        "*- Identify and gather data from a variety of accessible sources (e.g. internal company data, public data, IoT sensors, weather data ....).*\n",
        "\n",
        "*- The choice of data sources is free, but they must be relevant to the analysis of energy consumption.*"
      ]
    },
    {
      "cell_type": "markdown",
      "metadata": {
        "id": "w66kc1wbHA1I"
      },
      "source": [
        "For this project, we chose a dataset on energy consumption, specifically electricity usage data from 881 companies and local authorities across six French overseas regions : Réunion Island, French Guiana, Martinique, Guadeloupe, Mayotte, and Corsica. The data was collected between 2021 and 2024."
      ]
    },
    {
      "cell_type": "markdown",
      "metadata": {
        "id": "B2cXLFLCZrYR"
      },
      "source": [
        "We aim to use this dataset to predict the weekly energy consumption of a company."
      ]
    },
    {
      "cell_type": "markdown",
      "metadata": {
        "id": "YWIB7HQjzB4g"
      },
      "source": [
        "## 2- Cleaning and Data Preparation :\n",
        "\n",
        "*- Manage missing values, inconsistencies and anomalies (e.g. outliers).*\n",
        "\n",
        "*- Standardize formats (dates, consumption units, etc.) to guarantee data consistency.*\n",
        "\n",
        "*- Create new variables if necessary, such as consumption periods (off-peak, peak, seasonal, etc.).*"
      ]
    },
    {
      "cell_type": "markdown",
      "metadata": {
        "id": "B8xWDXHl0QQ0"
      },
      "source": [
        "Let's start by loading our dataset and transform it into a Pandas dataframe. It will be easier to use for our project:"
      ]
    },
    {
      "cell_type": "code",
      "execution_count": 4,
      "metadata": {
        "id": "mKQl8R2H9jkv"
      },
      "outputs": [],
      "source": [
        "data = pd.read_csv('dataset.csv')"
      ]
    },
    {
      "cell_type": "markdown",
      "metadata": {
        "id": "WKx0ihpE2ZGh"
      },
      "source": [
        "Let's see what our data looks like:"
      ]
    },
    {
      "cell_type": "code",
      "execution_count": 5,
      "metadata": {
        "colab": {
          "base_uri": "https://localhost:8080/",
          "height": 360
        },
        "id": "NuWnNxcU9j7N",
        "outputId": "61d066e8-5f15-4c04-df1e-6b6aa221730b"
      },
      "outputs": [
        {
          "data": {
            "text/html": [
              "<div>\n",
              "<style scoped>\n",
              "    .dataframe tbody tr th:only-of-type {\n",
              "        vertical-align: middle;\n",
              "    }\n",
              "\n",
              "    .dataframe tbody tr th {\n",
              "        vertical-align: top;\n",
              "    }\n",
              "\n",
              "    .dataframe thead th {\n",
              "        text-align: right;\n",
              "    }\n",
              "</style>\n",
              "<table border=\"1\" class=\"dataframe\">\n",
              "  <thead>\n",
              "    <tr style=\"text-align: right;\">\n",
              "      <th></th>\n",
              "      <th>year-Wweek</th>\n",
              "      <th>user_id</th>\n",
              "      <th>site_id</th>\n",
              "      <th>department</th>\n",
              "      <th>nace_code</th>\n",
              "      <th>insee_code</th>\n",
              "      <th>weekly_E_kWh</th>\n",
              "      <th>weekly_dd_heating_15</th>\n",
              "      <th>weekly_dd_heating_16</th>\n",
              "      <th>weekly_dd_heating_17</th>\n",
              "      <th>...</th>\n",
              "      <th>min_indoor_humidity_13</th>\n",
              "      <th>mean_indoor_humidity_14</th>\n",
              "      <th>max_indoor_humidity_14</th>\n",
              "      <th>min_indoor_humidity_14</th>\n",
              "      <th>mean_indoor_humidity_15</th>\n",
              "      <th>max_indoor_humidity_15</th>\n",
              "      <th>min_indoor_humidity_15</th>\n",
              "      <th>mean_indoor_humidity_16</th>\n",
              "      <th>max_indoor_humidity_16</th>\n",
              "      <th>min_indoor_humidity_16</th>\n",
              "    </tr>\n",
              "  </thead>\n",
              "  <tbody>\n",
              "    <tr>\n",
              "      <th>0</th>\n",
              "      <td>2021-W19</td>\n",
              "      <td>458</td>\n",
              "      <td>513</td>\n",
              "      <td>Martinique</td>\n",
              "      <td>72.19</td>\n",
              "      <td>97209</td>\n",
              "      <td>645.595</td>\n",
              "      <td>0.0</td>\n",
              "      <td>0.0</td>\n",
              "      <td>0.0</td>\n",
              "      <td>...</td>\n",
              "      <td>NaN</td>\n",
              "      <td>NaN</td>\n",
              "      <td>NaN</td>\n",
              "      <td>NaN</td>\n",
              "      <td>NaN</td>\n",
              "      <td>NaN</td>\n",
              "      <td>NaN</td>\n",
              "      <td>NaN</td>\n",
              "      <td>NaN</td>\n",
              "      <td>NaN</td>\n",
              "    </tr>\n",
              "    <tr>\n",
              "      <th>1</th>\n",
              "      <td>2021-W20</td>\n",
              "      <td>458</td>\n",
              "      <td>513</td>\n",
              "      <td>Martinique</td>\n",
              "      <td>72.19</td>\n",
              "      <td>97209</td>\n",
              "      <td>621.710</td>\n",
              "      <td>0.0</td>\n",
              "      <td>0.0</td>\n",
              "      <td>0.0</td>\n",
              "      <td>...</td>\n",
              "      <td>NaN</td>\n",
              "      <td>NaN</td>\n",
              "      <td>NaN</td>\n",
              "      <td>NaN</td>\n",
              "      <td>NaN</td>\n",
              "      <td>NaN</td>\n",
              "      <td>NaN</td>\n",
              "      <td>NaN</td>\n",
              "      <td>NaN</td>\n",
              "      <td>NaN</td>\n",
              "    </tr>\n",
              "    <tr>\n",
              "      <th>2</th>\n",
              "      <td>2021-W21</td>\n",
              "      <td>458</td>\n",
              "      <td>513</td>\n",
              "      <td>Martinique</td>\n",
              "      <td>72.19</td>\n",
              "      <td>97209</td>\n",
              "      <td>593.756</td>\n",
              "      <td>0.0</td>\n",
              "      <td>0.0</td>\n",
              "      <td>0.0</td>\n",
              "      <td>...</td>\n",
              "      <td>NaN</td>\n",
              "      <td>NaN</td>\n",
              "      <td>NaN</td>\n",
              "      <td>NaN</td>\n",
              "      <td>NaN</td>\n",
              "      <td>NaN</td>\n",
              "      <td>NaN</td>\n",
              "      <td>NaN</td>\n",
              "      <td>NaN</td>\n",
              "      <td>NaN</td>\n",
              "    </tr>\n",
              "    <tr>\n",
              "      <th>3</th>\n",
              "      <td>2021-W22</td>\n",
              "      <td>458</td>\n",
              "      <td>513</td>\n",
              "      <td>Martinique</td>\n",
              "      <td>72.19</td>\n",
              "      <td>97209</td>\n",
              "      <td>598.007</td>\n",
              "      <td>0.0</td>\n",
              "      <td>0.0</td>\n",
              "      <td>0.0</td>\n",
              "      <td>...</td>\n",
              "      <td>NaN</td>\n",
              "      <td>NaN</td>\n",
              "      <td>NaN</td>\n",
              "      <td>NaN</td>\n",
              "      <td>NaN</td>\n",
              "      <td>NaN</td>\n",
              "      <td>NaN</td>\n",
              "      <td>NaN</td>\n",
              "      <td>NaN</td>\n",
              "      <td>NaN</td>\n",
              "    </tr>\n",
              "    <tr>\n",
              "      <th>4</th>\n",
              "      <td>2021-W23</td>\n",
              "      <td>458</td>\n",
              "      <td>513</td>\n",
              "      <td>Martinique</td>\n",
              "      <td>72.19</td>\n",
              "      <td>97209</td>\n",
              "      <td>616.960</td>\n",
              "      <td>0.0</td>\n",
              "      <td>0.0</td>\n",
              "      <td>0.0</td>\n",
              "      <td>...</td>\n",
              "      <td>NaN</td>\n",
              "      <td>NaN</td>\n",
              "      <td>NaN</td>\n",
              "      <td>NaN</td>\n",
              "      <td>NaN</td>\n",
              "      <td>NaN</td>\n",
              "      <td>NaN</td>\n",
              "      <td>NaN</td>\n",
              "      <td>NaN</td>\n",
              "      <td>NaN</td>\n",
              "    </tr>\n",
              "  </tbody>\n",
              "</table>\n",
              "<p>5 rows × 112 columns</p>\n",
              "</div>"
            ],
            "text/plain": [
              "  year-Wweek  user_id  site_id  department  nace_code insee_code  \\\n",
              "0   2021-W19      458      513  Martinique      72.19      97209   \n",
              "1   2021-W20      458      513  Martinique      72.19      97209   \n",
              "2   2021-W21      458      513  Martinique      72.19      97209   \n",
              "3   2021-W22      458      513  Martinique      72.19      97209   \n",
              "4   2021-W23      458      513  Martinique      72.19      97209   \n",
              "\n",
              "   weekly_E_kWh  weekly_dd_heating_15  weekly_dd_heating_16  \\\n",
              "0       645.595                   0.0                   0.0   \n",
              "1       621.710                   0.0                   0.0   \n",
              "2       593.756                   0.0                   0.0   \n",
              "3       598.007                   0.0                   0.0   \n",
              "4       616.960                   0.0                   0.0   \n",
              "\n",
              "   weekly_dd_heating_17  ...  min_indoor_humidity_13  mean_indoor_humidity_14  \\\n",
              "0                   0.0  ...                     NaN                      NaN   \n",
              "1                   0.0  ...                     NaN                      NaN   \n",
              "2                   0.0  ...                     NaN                      NaN   \n",
              "3                   0.0  ...                     NaN                      NaN   \n",
              "4                   0.0  ...                     NaN                      NaN   \n",
              "\n",
              "   max_indoor_humidity_14  min_indoor_humidity_14  mean_indoor_humidity_15  \\\n",
              "0                     NaN                     NaN                      NaN   \n",
              "1                     NaN                     NaN                      NaN   \n",
              "2                     NaN                     NaN                      NaN   \n",
              "3                     NaN                     NaN                      NaN   \n",
              "4                     NaN                     NaN                      NaN   \n",
              "\n",
              "   max_indoor_humidity_15  min_indoor_humidity_15  mean_indoor_humidity_16  \\\n",
              "0                     NaN                     NaN                      NaN   \n",
              "1                     NaN                     NaN                      NaN   \n",
              "2                     NaN                     NaN                      NaN   \n",
              "3                     NaN                     NaN                      NaN   \n",
              "4                     NaN                     NaN                      NaN   \n",
              "\n",
              "   max_indoor_humidity_16  min_indoor_humidity_16  \n",
              "0                     NaN                     NaN  \n",
              "1                     NaN                     NaN  \n",
              "2                     NaN                     NaN  \n",
              "3                     NaN                     NaN  \n",
              "4                     NaN                     NaN  \n",
              "\n",
              "[5 rows x 112 columns]"
            ]
          },
          "execution_count": 5,
          "metadata": {},
          "output_type": "execute_result"
        }
      ],
      "source": [
        "data.head()"
      ]
    },
    {
      "cell_type": "code",
      "execution_count": 6,
      "metadata": {
        "colab": {
          "base_uri": "https://localhost:8080/"
        },
        "id": "pWaY4xT2G_sO",
        "outputId": "2d0adae2-398c-484f-a494-38d2ede2c6f3"
      },
      "outputs": [
        {
          "data": {
            "text/plain": [
              "(42288, 112)"
            ]
          },
          "execution_count": 6,
          "metadata": {},
          "output_type": "execute_result"
        }
      ],
      "source": [
        "data.shape"
      ]
    },
    {
      "cell_type": "markdown",
      "metadata": {
        "id": "AoqyHIwzHra1"
      },
      "source": [
        "Our dataset contains 42,288 records and 112 columns."
      ]
    },
    {
      "cell_type": "markdown",
      "metadata": {
        "id": "vhaUyi0sFJnV"
      },
      "source": [
        "### 2.1- Missing values\n",
        "\n",
        "It appears that we have several NaN values. Let's organize this properly."
      ]
    },
    {
      "cell_type": "markdown",
      "metadata": {
        "id": "exP8Eb8m2oAB"
      },
      "source": [
        "Let's look at how many missing values per feature our data contains:"
      ]
    },
    {
      "cell_type": "code",
      "execution_count": 7,
      "metadata": {
        "colab": {
          "base_uri": "https://localhost:8080/",
          "height": 459
        },
        "id": "kT2mtpNz9veC",
        "outputId": "ef901e22-dc99-439d-98fa-e3c3315bf76e"
      },
      "outputs": [
        {
          "data": {
            "text/plain": [
              "year-Wweek                     0\n",
              "user_id                        0\n",
              "site_id                        0\n",
              "department                     0\n",
              "nace_code                      0\n",
              "                           ...  \n",
              "max_indoor_humidity_15     42254\n",
              "min_indoor_humidity_15     42254\n",
              "mean_indoor_humidity_16    42254\n",
              "max_indoor_humidity_16     42254\n",
              "min_indoor_humidity_16     42254\n",
              "Length: 112, dtype: int64"
            ]
          },
          "execution_count": 7,
          "metadata": {},
          "output_type": "execute_result"
        }
      ],
      "source": [
        "data.isnull().sum()"
      ]
    },
    {
      "cell_type": "markdown",
      "metadata": {
        "id": "szoAZXBi3GkK"
      },
      "source": [
        "Let's look at the pourcentage of missing values per feature (it's more intuitive):"
      ]
    },
    {
      "cell_type": "code",
      "execution_count": 8,
      "metadata": {
        "colab": {
          "base_uri": "https://localhost:8080/",
          "height": 459
        },
        "id": "r7utocuw23Dc",
        "outputId": "dc2b5684-3a43-479f-ebd4-bf9a7f190e46"
      },
      "outputs": [
        {
          "data": {
            "text/plain": [
              "year-Wweek                  0.000000\n",
              "user_id                     0.000000\n",
              "site_id                     0.000000\n",
              "department                  0.000000\n",
              "nace_code                   0.000000\n",
              "                             ...    \n",
              "max_indoor_humidity_15     99.919599\n",
              "min_indoor_humidity_15     99.919599\n",
              "mean_indoor_humidity_16    99.919599\n",
              "max_indoor_humidity_16     99.919599\n",
              "min_indoor_humidity_16     99.919599\n",
              "Length: 112, dtype: float64"
            ]
          },
          "execution_count": 8,
          "metadata": {},
          "output_type": "execute_result"
        }
      ],
      "source": [
        "missing_percentage = (data.isnull().sum() / len(data)) * 100\n",
        "missing_percentage"
      ]
    },
    {
      "cell_type": "markdown",
      "metadata": {
        "id": "pM0ccm2XH6Vh"
      },
      "source": [
        "First, we decide to delete all columns that have more than half of their values missing. Let's look at the columns that fit that criteria:"
      ]
    },
    {
      "cell_type": "code",
      "execution_count": 9,
      "metadata": {
        "colab": {
          "base_uri": "https://localhost:8080/",
          "height": 476
        },
        "id": "hrDs56BP3Qat",
        "outputId": "c46168d9-8e56-429b-c2a6-673b298e8906"
      },
      "outputs": [
        {
          "name": "stdout",
          "output_type": "stream",
          "text": [
            "Columns with more than 50% missing values:\n"
          ]
        },
        {
          "data": {
            "text/plain": [
              "mean_indoor_temperature_02    98.607170\n",
              "max_indoor_temperature_02     98.607170\n",
              "min_indoor_temperature_02     98.607170\n",
              "mean_indoor_temperature_03    98.678112\n",
              "max_indoor_temperature_03     98.678112\n",
              "                                ...    \n",
              "max_indoor_humidity_15        99.919599\n",
              "min_indoor_humidity_15        99.919599\n",
              "mean_indoor_humidity_16       99.919599\n",
              "max_indoor_humidity_16        99.919599\n",
              "min_indoor_humidity_16        99.919599\n",
              "Length: 84, dtype: float64"
            ]
          },
          "execution_count": 9,
          "metadata": {},
          "output_type": "execute_result"
        }
      ],
      "source": [
        "columns_with_high_missing = missing_percentage[missing_percentage > 50]\n",
        "\n",
        "print(\"Columns with more than 50% missing values:\")\n",
        "columns_with_high_missing"
      ]
    },
    {
      "cell_type": "markdown",
      "metadata": {
        "id": "TGRzZx873-DA"
      },
      "source": [
        "We can see that 84 columns (out of 112) have more than 50% of values missing. We delete those columns:"
      ]
    },
    {
      "cell_type": "code",
      "execution_count": 10,
      "metadata": {
        "id": "pZgrpZXg9kMz"
      },
      "outputs": [],
      "source": [
        "data = data.dropna(thresh=2/4 * len(data), axis=1)"
      ]
    },
    {
      "cell_type": "markdown",
      "metadata": {
        "id": "1zpz4cHz4NXN"
      },
      "source": [
        "Let's look at the remaining features and their pourcentage of missing values:"
      ]
    },
    {
      "cell_type": "code",
      "execution_count": 11,
      "metadata": {
        "colab": {
          "base_uri": "https://localhost:8080/",
          "height": 962
        },
        "id": "7Z5jBLgIIQep",
        "outputId": "c3dd80a4-ef10-4092-c979-8f4b7c689050"
      },
      "outputs": [
        {
          "data": {
            "text/plain": [
              "year-Wweek                     0.000000\n",
              "user_id                        0.000000\n",
              "site_id                        0.000000\n",
              "department                     0.000000\n",
              "nace_code                      0.000000\n",
              "insee_code                     0.000000\n",
              "weekly_E_kWh                  12.670261\n",
              "weekly_dd_heating_15           1.515796\n",
              "weekly_dd_heating_16           1.515796\n",
              "weekly_dd_heating_17           1.515796\n",
              "weekly_dd_heating_18           1.515796\n",
              "weekly_dd_cooling_22           1.515796\n",
              "weekly_dd_cooling_23           1.515796\n",
              "weekly_dd_cooling_24           1.515796\n",
              "weekly_dd_cooling_25           1.515796\n",
              "weekly_dd_cooling_26           1.515796\n",
              "mean_indoor_temperature_00    20.731650\n",
              "max_indoor_temperature_00     20.731650\n",
              "min_indoor_temperature_00     20.731650\n",
              "mean_indoor_humidity_00       20.729285\n",
              "max_indoor_humidity_00        20.729285\n",
              "min_indoor_humidity_00        20.729285\n",
              "mean_indoor_temperature_01    46.935301\n",
              "max_indoor_temperature_01     46.935301\n",
              "min_indoor_temperature_01     46.935301\n",
              "mean_indoor_humidity_01       46.935301\n",
              "max_indoor_humidity_01        46.935301\n",
              "min_indoor_humidity_01        46.935301\n",
              "dtype: float64"
            ]
          },
          "execution_count": 11,
          "metadata": {},
          "output_type": "execute_result"
        }
      ],
      "source": [
        "missing_percentage = (data.isnull().sum() / len(data)) * 100\n",
        "missing_percentage"
      ]
    },
    {
      "cell_type": "markdown",
      "metadata": {
        "id": "hPnwRG7v43YZ"
      },
      "source": [
        "We can see that 6 features have more than 45% of missing values. We decide that it is too much and therefore we delete them:"
      ]
    },
    {
      "cell_type": "code",
      "execution_count": 12,
      "metadata": {
        "id": "R2c3reqx5GjQ"
      },
      "outputs": [],
      "source": [
        "data = data.drop(columns=['mean_indoor_temperature_01',\n",
        "                          'max_indoor_temperature_01',\n",
        "                          'min_indoor_temperature_01',\n",
        "                          'mean_indoor_humidity_01',\n",
        "                          'max_indoor_humidity_01',\n",
        "                          'min_indoor_humidity_01'])"
      ]
    },
    {
      "cell_type": "markdown",
      "metadata": {
        "id": "-M4nb3h25j2z"
      },
      "source": [
        "Let's look at our remaining features and their pourcentage of missing values again:"
      ]
    },
    {
      "cell_type": "code",
      "execution_count": 13,
      "metadata": {
        "colab": {
          "base_uri": "https://localhost:8080/",
          "height": 774
        },
        "id": "Jblk_rHf5c1P",
        "outputId": "f40c900b-775e-41e3-adde-e6cc95d274e6"
      },
      "outputs": [
        {
          "data": {
            "text/plain": [
              "year-Wweek                     0.000000\n",
              "user_id                        0.000000\n",
              "site_id                        0.000000\n",
              "department                     0.000000\n",
              "nace_code                      0.000000\n",
              "insee_code                     0.000000\n",
              "weekly_E_kWh                  12.670261\n",
              "weekly_dd_heating_15           1.515796\n",
              "weekly_dd_heating_16           1.515796\n",
              "weekly_dd_heating_17           1.515796\n",
              "weekly_dd_heating_18           1.515796\n",
              "weekly_dd_cooling_22           1.515796\n",
              "weekly_dd_cooling_23           1.515796\n",
              "weekly_dd_cooling_24           1.515796\n",
              "weekly_dd_cooling_25           1.515796\n",
              "weekly_dd_cooling_26           1.515796\n",
              "mean_indoor_temperature_00    20.731650\n",
              "max_indoor_temperature_00     20.731650\n",
              "min_indoor_temperature_00     20.731650\n",
              "mean_indoor_humidity_00       20.729285\n",
              "max_indoor_humidity_00        20.729285\n",
              "min_indoor_humidity_00        20.729285\n",
              "dtype: float64"
            ]
          },
          "execution_count": 13,
          "metadata": {},
          "output_type": "execute_result"
        }
      ],
      "source": [
        "missing_percentage = (data.isnull().sum() / len(data)) * 100\n",
        "missing_percentage"
      ]
    },
    {
      "cell_type": "markdown",
      "metadata": {
        "id": "wjAj0lOs5owZ"
      },
      "source": [
        "We can see that no feature remaining has more than 21% of missing values. Let's look at how many features remaining we have:"
      ]
    },
    {
      "cell_type": "code",
      "execution_count": 14,
      "metadata": {
        "colab": {
          "base_uri": "https://localhost:8080/"
        },
        "id": "zzPQLJCw5etI",
        "outputId": "617111e8-432a-441a-dc33-8acaa2d910f3"
      },
      "outputs": [
        {
          "data": {
            "text/plain": [
              "(42288, 22)"
            ]
          },
          "execution_count": 14,
          "metadata": {},
          "output_type": "execute_result"
        }
      ],
      "source": [
        "data.shape"
      ]
    },
    {
      "cell_type": "markdown",
      "metadata": {
        "id": "C0BxBO7D53Yo"
      },
      "source": [
        "We have 22 features remaining."
      ]
    },
    {
      "cell_type": "markdown",
      "metadata": {
        "id": "I_r8BeSOL1wW"
      },
      "source": [
        "Since the feature `weekly_E_kWh` is the target column for prediction, we will delete all rows with missing values in this column:"
      ]
    },
    {
      "cell_type": "code",
      "execution_count": 15,
      "metadata": {
        "id": "fwLbPI2wL1cq"
      },
      "outputs": [],
      "source": [
        "data = data.dropna(subset=['weekly_E_kWh'])"
      ]
    },
    {
      "cell_type": "code",
      "execution_count": 16,
      "metadata": {
        "colab": {
          "base_uri": "https://localhost:8080/"
        },
        "id": "Kpw5uH-UMb73",
        "outputId": "e26d66e3-9b41-4f5a-a44d-a4906cc03545"
      },
      "outputs": [
        {
          "data": {
            "text/plain": [
              "(36930, 22)"
            ]
          },
          "execution_count": 16,
          "metadata": {},
          "output_type": "execute_result"
        }
      ],
      "source": [
        "data.shape"
      ]
    },
    {
      "cell_type": "markdown",
      "metadata": {
        "id": "s1KJ33Pl6fsM"
      },
      "source": [
        "We had 42,288 rows at the beginning and we now have 36,930 rows left. So around 5,000 rows have been deleted.\n",
        "\n",
        "Let's look again at our missing values:"
      ]
    },
    {
      "cell_type": "code",
      "execution_count": 17,
      "metadata": {
        "colab": {
          "base_uri": "https://localhost:8080/",
          "height": 774
        },
        "id": "U_yUNJHa785V",
        "outputId": "267d4e23-8d8a-4ef6-85ce-71eebc664055"
      },
      "outputs": [
        {
          "data": {
            "text/plain": [
              "year-Wweek                     0.000000\n",
              "user_id                        0.000000\n",
              "site_id                        0.000000\n",
              "department                     0.000000\n",
              "nace_code                      0.000000\n",
              "insee_code                     0.000000\n",
              "weekly_E_kWh                   0.000000\n",
              "weekly_dd_heating_15           1.649066\n",
              "weekly_dd_heating_16           1.649066\n",
              "weekly_dd_heating_17           1.649066\n",
              "weekly_dd_heating_18           1.649066\n",
              "weekly_dd_cooling_22           1.649066\n",
              "weekly_dd_cooling_23           1.649066\n",
              "weekly_dd_cooling_24           1.649066\n",
              "weekly_dd_cooling_25           1.649066\n",
              "weekly_dd_cooling_26           1.649066\n",
              "mean_indoor_temperature_00    16.802058\n",
              "max_indoor_temperature_00     16.802058\n",
              "min_indoor_temperature_00     16.802058\n",
              "mean_indoor_humidity_00       16.799350\n",
              "max_indoor_humidity_00        16.799350\n",
              "min_indoor_humidity_00        16.799350\n",
              "dtype: float64"
            ]
          },
          "execution_count": 17,
          "metadata": {},
          "output_type": "execute_result"
        }
      ],
      "source": [
        "missing_percentage = (data.isnull().sum() / len(data)) * 100\n",
        "missing_percentage"
      ]
    },
    {
      "cell_type": "markdown",
      "metadata": {
        "id": "SCeVP8k2B8el"
      },
      "source": [
        "We can see that 6 features still have around 16% of missing values which is a lot. So we decide to delete all rows with missing values for those features:"
      ]
    },
    {
      "cell_type": "code",
      "execution_count": 18,
      "metadata": {
        "id": "USWWxQbFBgnV"
      },
      "outputs": [],
      "source": [
        "# List of features for removing rows with missing values\n",
        "features_to_check = [\n",
        "    'mean_indoor_temperature_00',\n",
        "    'max_indoor_temperature_00',\n",
        "    'min_indoor_temperature_00',\n",
        "    'mean_indoor_humidity_00',\n",
        "    'max_indoor_humidity_00',\n",
        "    'min_indoor_humidity_00'\n",
        "]\n",
        "\n",
        "# Drop rows with missing values in any of the specified features\n",
        "data = data.dropna(subset=features_to_check)"
      ]
    },
    {
      "cell_type": "markdown",
      "metadata": {
        "id": "j50mXK9eCg88"
      },
      "source": [
        "Now our dataset contains only rows without missing values in those specified features:"
      ]
    },
    {
      "cell_type": "code",
      "execution_count": 19,
      "metadata": {
        "colab": {
          "base_uri": "https://localhost:8080/",
          "height": 774
        },
        "id": "mcwptauZBv6u",
        "outputId": "c2df6b89-53ca-42d5-858a-f078eb0c50a7"
      },
      "outputs": [
        {
          "data": {
            "text/plain": [
              "year-Wweek                    0.000000\n",
              "user_id                       0.000000\n",
              "site_id                       0.000000\n",
              "department                    0.000000\n",
              "nace_code                     0.000000\n",
              "insee_code                    0.000000\n",
              "weekly_E_kWh                  0.000000\n",
              "weekly_dd_heating_15          1.982099\n",
              "weekly_dd_heating_16          1.982099\n",
              "weekly_dd_heating_17          1.982099\n",
              "weekly_dd_heating_18          1.982099\n",
              "weekly_dd_cooling_22          1.982099\n",
              "weekly_dd_cooling_23          1.982099\n",
              "weekly_dd_cooling_24          1.982099\n",
              "weekly_dd_cooling_25          1.982099\n",
              "weekly_dd_cooling_26          1.982099\n",
              "mean_indoor_temperature_00    0.000000\n",
              "max_indoor_temperature_00     0.000000\n",
              "min_indoor_temperature_00     0.000000\n",
              "mean_indoor_humidity_00       0.000000\n",
              "max_indoor_humidity_00        0.000000\n",
              "min_indoor_humidity_00        0.000000\n",
              "dtype: float64"
            ]
          },
          "execution_count": 19,
          "metadata": {},
          "output_type": "execute_result"
        }
      ],
      "source": [
        "missing_percentage = (data.isnull().sum() / len(data)) * 100\n",
        "missing_percentage"
      ]
    },
    {
      "cell_type": "markdown",
      "metadata": {
        "id": "q616-gMaCq29"
      },
      "source": [
        "We still have a very small pourcentage of missing values for some of our remaining features so we decide to replace the missing values in those features by the mean value of the corresponding feature. This shouldn't affect the quality of our data because it applies only to a very small pourcentage of the whole dataset. Here we go:"
      ]
    },
    {
      "cell_type": "code",
      "execution_count": 20,
      "metadata": {
        "colab": {
          "base_uri": "https://localhost:8080/"
        },
        "id": "qb-jl2WcDfcu",
        "outputId": "dc717f67-c67b-465f-a3cd-38c0dd315b20"
      },
      "outputs": [
        {
          "name": "stderr",
          "output_type": "stream",
          "text": [
            "C:\\Users\\zinii\\AppData\\Local\\Temp\\ipykernel_21796\\3540151625.py:4: FutureWarning: A value is trying to be set on a copy of a DataFrame or Series through chained assignment using an inplace method.\n",
            "The behavior will change in pandas 3.0. This inplace method will never work because the intermediate object on which we are setting values always behaves as a copy.\n",
            "\n",
            "For example, when doing 'df[col].method(value, inplace=True)', try using 'df.method({col: value}, inplace=True)' or df[col] = df[col].method(value) instead, to perform the operation inplace on the original object.\n",
            "\n",
            "\n",
            "  data[column].fillna(data[column].mean(), inplace=True)\n"
          ]
        }
      ],
      "source": [
        "# Iterate through columns with missing values and fill them with the mean of the column\n",
        "for column in data.columns:\n",
        "  if data[column].isnull().any():\n",
        "    data[column].fillna(data[column].mean(), inplace=True)"
      ]
    },
    {
      "cell_type": "markdown",
      "metadata": {
        "id": "hd0hilYjD8I9"
      },
      "source": [
        "Let's verify that we don't have missing values anymore:"
      ]
    },
    {
      "cell_type": "code",
      "execution_count": 21,
      "metadata": {
        "colab": {
          "base_uri": "https://localhost:8080/",
          "height": 774
        },
        "id": "163mMkUADq6m",
        "outputId": "4a4ccb45-d766-4f4b-aba9-7da9294b38fa"
      },
      "outputs": [
        {
          "data": {
            "text/plain": [
              "year-Wweek                    0\n",
              "user_id                       0\n",
              "site_id                       0\n",
              "department                    0\n",
              "nace_code                     0\n",
              "insee_code                    0\n",
              "weekly_E_kWh                  0\n",
              "weekly_dd_heating_15          0\n",
              "weekly_dd_heating_16          0\n",
              "weekly_dd_heating_17          0\n",
              "weekly_dd_heating_18          0\n",
              "weekly_dd_cooling_22          0\n",
              "weekly_dd_cooling_23          0\n",
              "weekly_dd_cooling_24          0\n",
              "weekly_dd_cooling_25          0\n",
              "weekly_dd_cooling_26          0\n",
              "mean_indoor_temperature_00    0\n",
              "max_indoor_temperature_00     0\n",
              "min_indoor_temperature_00     0\n",
              "mean_indoor_humidity_00       0\n",
              "max_indoor_humidity_00        0\n",
              "min_indoor_humidity_00        0\n",
              "dtype: int64"
            ]
          },
          "execution_count": 21,
          "metadata": {},
          "output_type": "execute_result"
        }
      ],
      "source": [
        "data.isnull().sum()"
      ]
    },
    {
      "cell_type": "markdown",
      "metadata": {
        "id": "fXaAOjXgEB0h"
      },
      "source": [
        "We can see that we don't have any missing values left in our dataset. Let's look at the shape of our data:"
      ]
    },
    {
      "cell_type": "code",
      "execution_count": 22,
      "metadata": {
        "colab": {
          "base_uri": "https://localhost:8080/"
        },
        "id": "kf25QXB0Bx_Y",
        "outputId": "11e81312-0797-4416-e0d2-c66ed4a388ab"
      },
      "outputs": [
        {
          "data": {
            "text/plain": [
              "(30725, 22)"
            ]
          },
          "execution_count": 22,
          "metadata": {},
          "output_type": "execute_result"
        }
      ],
      "source": [
        "data.shape"
      ]
    },
    {
      "cell_type": "markdown",
      "metadata": {
        "id": "e2NIg-CxMdIm"
      },
      "source": [
        "After cleaning, our dataset contains 30,725 rows and 22 columns."
      ]
    },
    {
      "cell_type": "markdown",
      "metadata": {
        "id": "J7sSon24EUNW"
      },
      "source": [
        "Here are our features:"
      ]
    },
    {
      "cell_type": "code",
      "execution_count": 23,
      "metadata": {
        "colab": {
          "base_uri": "https://localhost:8080/"
        },
        "id": "K6jjee_NM_Ce",
        "outputId": "07d4fc85-9ad7-4e13-88ab-21081d8a72b7"
      },
      "outputs": [
        {
          "data": {
            "text/plain": [
              "['year-Wweek',\n",
              " 'user_id',\n",
              " 'site_id',\n",
              " 'department',\n",
              " 'nace_code',\n",
              " 'insee_code',\n",
              " 'weekly_E_kWh',\n",
              " 'weekly_dd_heating_15',\n",
              " 'weekly_dd_heating_16',\n",
              " 'weekly_dd_heating_17',\n",
              " 'weekly_dd_heating_18',\n",
              " 'weekly_dd_cooling_22',\n",
              " 'weekly_dd_cooling_23',\n",
              " 'weekly_dd_cooling_24',\n",
              " 'weekly_dd_cooling_25',\n",
              " 'weekly_dd_cooling_26',\n",
              " 'mean_indoor_temperature_00',\n",
              " 'max_indoor_temperature_00',\n",
              " 'min_indoor_temperature_00',\n",
              " 'mean_indoor_humidity_00',\n",
              " 'max_indoor_humidity_00',\n",
              " 'min_indoor_humidity_00']"
            ]
          },
          "execution_count": 23,
          "metadata": {},
          "output_type": "execute_result"
        }
      ],
      "source": [
        "data.columns.tolist()"
      ]
    },
    {
      "cell_type": "markdown",
      "metadata": {
        "id": "RRfN1hzFNCNL"
      },
      "source": [
        "Brief description of each column in our dataset:\n",
        "\n",
        "\n",
        "*   year-Wweek – The year and week number (e.g., 2024-W10) indicating the time period of the data.\n",
        "* user_id – Unique identifier for each user.\n",
        "* site_id – Unique identifier for each site (a building or a group of buildings).\n",
        "* department – Name of the department where the sensor is located (e.g., South Corsica, Upper Corsica, Guadeloupe, etc.).\n",
        "* nace_code – NACE code representing the type of activity of the company.\n",
        "* insee_code – INSEE code representing the municipality.\n",
        "* **weekly_E_kWh** – Weekly electricity consumption in kilowatt-hours (kWh).\n",
        "* weekly_dd_heating_15 – Weekly Heating Degree-Days (HDD) based on the reference temperature 15°C, indicating heating demand.\n",
        "* weekly_dd_heating_16 – HDD with a base temperature of 16°C.\n",
        "* weekly_dd_heating_17 – HDD with a base temperature of 17°C.\n",
        "* weekly_dd_heating_18 – HDD with a base temperature of 18°C.\n",
        "* weekly_dd_cooling_22 – Weekly Cooling Degree-Days (CDD) based on the reference temperature 22°C, indicating cooling demand.\n",
        "* weekly_dd_cooling_23 – CDD with a base temperature of 23°C.\n",
        "* weekly_dd_cooling_24 – CDD with a base temperature of 24°C.\n",
        "* weekly_dd_cooling_25 – CDD with a base temperature of 25°C.\n",
        "* weekly_dd_cooling_26 – CDD with a base temperature of 26°C.\n",
        "* mean_indoor_temperature_00 – The average indoor temperature for sensor 00 during the week.\n",
        "* max_indoor_temperature_00 – The maximum recorded indoor temperature for sensor 00.\n",
        "* min_indoor_temperature_00 – The minimum recorded indoor temperature for sensor 00.\n",
        "* mean_indoor_humidity_00 – The average indoor humidity for sensor 00 during the week.\n",
        "* max_indoor_humidity_00 – The maximum recorded indoor humidity for sensor 00.\n",
        "* min_indoor_humidity_00 – The minimum recorded indoor humidity for sensor 00.\n",
        "\n"
      ]
    },
    {
      "cell_type": "markdown",
      "metadata": {
        "id": "sYmby_9nFA9w"
      },
      "source": [
        "He is a look at our dataset:"
      ]
    },
    {
      "cell_type": "code",
      "execution_count": 24,
      "metadata": {
        "colab": {
          "base_uri": "https://localhost:8080/",
          "height": 360
        },
        "id": "6X6lIyIOI4YP",
        "outputId": "b4d09810-46fc-4b26-961b-f914554cdd8c"
      },
      "outputs": [
        {
          "data": {
            "text/html": [
              "<div>\n",
              "<style scoped>\n",
              "    .dataframe tbody tr th:only-of-type {\n",
              "        vertical-align: middle;\n",
              "    }\n",
              "\n",
              "    .dataframe tbody tr th {\n",
              "        vertical-align: top;\n",
              "    }\n",
              "\n",
              "    .dataframe thead th {\n",
              "        text-align: right;\n",
              "    }\n",
              "</style>\n",
              "<table border=\"1\" class=\"dataframe\">\n",
              "  <thead>\n",
              "    <tr style=\"text-align: right;\">\n",
              "      <th></th>\n",
              "      <th>year-Wweek</th>\n",
              "      <th>user_id</th>\n",
              "      <th>site_id</th>\n",
              "      <th>department</th>\n",
              "      <th>nace_code</th>\n",
              "      <th>insee_code</th>\n",
              "      <th>weekly_E_kWh</th>\n",
              "      <th>weekly_dd_heating_15</th>\n",
              "      <th>weekly_dd_heating_16</th>\n",
              "      <th>weekly_dd_heating_17</th>\n",
              "      <th>...</th>\n",
              "      <th>weekly_dd_cooling_23</th>\n",
              "      <th>weekly_dd_cooling_24</th>\n",
              "      <th>weekly_dd_cooling_25</th>\n",
              "      <th>weekly_dd_cooling_26</th>\n",
              "      <th>mean_indoor_temperature_00</th>\n",
              "      <th>max_indoor_temperature_00</th>\n",
              "      <th>min_indoor_temperature_00</th>\n",
              "      <th>mean_indoor_humidity_00</th>\n",
              "      <th>max_indoor_humidity_00</th>\n",
              "      <th>min_indoor_humidity_00</th>\n",
              "    </tr>\n",
              "  </thead>\n",
              "  <tbody>\n",
              "    <tr>\n",
              "      <th>0</th>\n",
              "      <td>2021-W19</td>\n",
              "      <td>458</td>\n",
              "      <td>513</td>\n",
              "      <td>Martinique</td>\n",
              "      <td>72.19</td>\n",
              "      <td>97209</td>\n",
              "      <td>645.595</td>\n",
              "      <td>0.0</td>\n",
              "      <td>0.0</td>\n",
              "      <td>0.0</td>\n",
              "      <td>...</td>\n",
              "      <td>23.782</td>\n",
              "      <td>16.877</td>\n",
              "      <td>10.505</td>\n",
              "      <td>6.140</td>\n",
              "      <td>27.147</td>\n",
              "      <td>28.60</td>\n",
              "      <td>22.37</td>\n",
              "      <td>66.107</td>\n",
              "      <td>75.0</td>\n",
              "      <td>0.0</td>\n",
              "    </tr>\n",
              "    <tr>\n",
              "      <th>1</th>\n",
              "      <td>2021-W20</td>\n",
              "      <td>458</td>\n",
              "      <td>513</td>\n",
              "      <td>Martinique</td>\n",
              "      <td>72.19</td>\n",
              "      <td>97209</td>\n",
              "      <td>621.710</td>\n",
              "      <td>0.0</td>\n",
              "      <td>0.0</td>\n",
              "      <td>0.0</td>\n",
              "      <td>...</td>\n",
              "      <td>29.014</td>\n",
              "      <td>22.014</td>\n",
              "      <td>15.133</td>\n",
              "      <td>9.265</td>\n",
              "      <td>28.244</td>\n",
              "      <td>29.32</td>\n",
              "      <td>25.16</td>\n",
              "      <td>64.013</td>\n",
              "      <td>69.0</td>\n",
              "      <td>48.0</td>\n",
              "    </tr>\n",
              "    <tr>\n",
              "      <th>2</th>\n",
              "      <td>2021-W21</td>\n",
              "      <td>458</td>\n",
              "      <td>513</td>\n",
              "      <td>Martinique</td>\n",
              "      <td>72.19</td>\n",
              "      <td>97209</td>\n",
              "      <td>593.756</td>\n",
              "      <td>0.0</td>\n",
              "      <td>0.0</td>\n",
              "      <td>0.0</td>\n",
              "      <td>...</td>\n",
              "      <td>26.712</td>\n",
              "      <td>19.863</td>\n",
              "      <td>13.425</td>\n",
              "      <td>8.437</td>\n",
              "      <td>27.905</td>\n",
              "      <td>28.99</td>\n",
              "      <td>23.71</td>\n",
              "      <td>63.005</td>\n",
              "      <td>73.0</td>\n",
              "      <td>0.0</td>\n",
              "    </tr>\n",
              "    <tr>\n",
              "      <th>3</th>\n",
              "      <td>2021-W22</td>\n",
              "      <td>458</td>\n",
              "      <td>513</td>\n",
              "      <td>Martinique</td>\n",
              "      <td>72.19</td>\n",
              "      <td>97209</td>\n",
              "      <td>598.007</td>\n",
              "      <td>0.0</td>\n",
              "      <td>0.0</td>\n",
              "      <td>0.0</td>\n",
              "      <td>...</td>\n",
              "      <td>24.759</td>\n",
              "      <td>17.845</td>\n",
              "      <td>11.288</td>\n",
              "      <td>6.280</td>\n",
              "      <td>27.587</td>\n",
              "      <td>29.06</td>\n",
              "      <td>23.48</td>\n",
              "      <td>65.250</td>\n",
              "      <td>73.0</td>\n",
              "      <td>54.0</td>\n",
              "    </tr>\n",
              "    <tr>\n",
              "      <th>4</th>\n",
              "      <td>2021-W23</td>\n",
              "      <td>458</td>\n",
              "      <td>513</td>\n",
              "      <td>Martinique</td>\n",
              "      <td>72.19</td>\n",
              "      <td>97209</td>\n",
              "      <td>616.960</td>\n",
              "      <td>0.0</td>\n",
              "      <td>0.0</td>\n",
              "      <td>0.0</td>\n",
              "      <td>...</td>\n",
              "      <td>26.923</td>\n",
              "      <td>19.925</td>\n",
              "      <td>13.151</td>\n",
              "      <td>7.506</td>\n",
              "      <td>27.454</td>\n",
              "      <td>29.17</td>\n",
              "      <td>23.68</td>\n",
              "      <td>69.894</td>\n",
              "      <td>76.0</td>\n",
              "      <td>55.0</td>\n",
              "    </tr>\n",
              "  </tbody>\n",
              "</table>\n",
              "<p>5 rows × 22 columns</p>\n",
              "</div>"
            ],
            "text/plain": [
              "  year-Wweek  user_id  site_id  department  nace_code insee_code  \\\n",
              "0   2021-W19      458      513  Martinique      72.19      97209   \n",
              "1   2021-W20      458      513  Martinique      72.19      97209   \n",
              "2   2021-W21      458      513  Martinique      72.19      97209   \n",
              "3   2021-W22      458      513  Martinique      72.19      97209   \n",
              "4   2021-W23      458      513  Martinique      72.19      97209   \n",
              "\n",
              "   weekly_E_kWh  weekly_dd_heating_15  weekly_dd_heating_16  \\\n",
              "0       645.595                   0.0                   0.0   \n",
              "1       621.710                   0.0                   0.0   \n",
              "2       593.756                   0.0                   0.0   \n",
              "3       598.007                   0.0                   0.0   \n",
              "4       616.960                   0.0                   0.0   \n",
              "\n",
              "   weekly_dd_heating_17  ...  weekly_dd_cooling_23  weekly_dd_cooling_24  \\\n",
              "0                   0.0  ...                23.782                16.877   \n",
              "1                   0.0  ...                29.014                22.014   \n",
              "2                   0.0  ...                26.712                19.863   \n",
              "3                   0.0  ...                24.759                17.845   \n",
              "4                   0.0  ...                26.923                19.925   \n",
              "\n",
              "   weekly_dd_cooling_25  weekly_dd_cooling_26  mean_indoor_temperature_00  \\\n",
              "0                10.505                 6.140                      27.147   \n",
              "1                15.133                 9.265                      28.244   \n",
              "2                13.425                 8.437                      27.905   \n",
              "3                11.288                 6.280                      27.587   \n",
              "4                13.151                 7.506                      27.454   \n",
              "\n",
              "   max_indoor_temperature_00  min_indoor_temperature_00  \\\n",
              "0                      28.60                      22.37   \n",
              "1                      29.32                      25.16   \n",
              "2                      28.99                      23.71   \n",
              "3                      29.06                      23.48   \n",
              "4                      29.17                      23.68   \n",
              "\n",
              "   mean_indoor_humidity_00  max_indoor_humidity_00  min_indoor_humidity_00  \n",
              "0                   66.107                    75.0                     0.0  \n",
              "1                   64.013                    69.0                    48.0  \n",
              "2                   63.005                    73.0                     0.0  \n",
              "3                   65.250                    73.0                    54.0  \n",
              "4                   69.894                    76.0                    55.0  \n",
              "\n",
              "[5 rows x 22 columns]"
            ]
          },
          "execution_count": 24,
          "metadata": {},
          "output_type": "execute_result"
        }
      ],
      "source": [
        "data.head()"
      ]
    },
    {
      "cell_type": "markdown",
      "metadata": {
        "id": "m3DmOLToQh_9"
      },
      "source": [
        "### 2.2- Outliers management\n",
        "\n",
        "Let's check for any outliers in our dataset."
      ]
    },
    {
      "cell_type": "markdown",
      "metadata": {
        "id": "Rvk_kDA7GATl"
      },
      "source": [
        "Let's do a boxplot for detecting outliers:"
      ]
    },
    {
      "cell_type": "code",
      "execution_count": 25,
      "metadata": {
        "colab": {
          "base_uri": "https://localhost:8080/",
          "height": 807
        },
        "id": "CTQ5pKiNGcKk",
        "outputId": "6c1f4c24-9d82-442f-f7f9-da81268bd94d"
      },
      "outputs": [
        {
          "data": {
            "image/png": "[encoded data removed]",
            "text/plain": [
              "<Figure size 1200x800 with 1 Axes>"
            ]
          },
          "metadata": {},
          "output_type": "display_data"
        }
      ],
      "source": [
        "plt.figure(figsize=(12, 8))\n",
        "sns.boxplot(data=data)\n",
        "plt.title(\"Boxplot for Outlier Detection\")\n",
        "plt.xticks(rotation=45, ha='right')\n",
        "plt.tight_layout()\n",
        "plt.show()"
      ]
    },
    {
      "cell_type": "markdown",
      "metadata": {
        "id": "sTvpNkGDSBl6"
      },
      "source": [
        "We can see that the feature `weekly_E_kWh` contains outliers. Let's look at it more closely:"
      ]
    },
    {
      "cell_type": "code",
      "execution_count": 26,
      "metadata": {
        "colab": {
          "base_uri": "https://localhost:8080/",
          "height": 564
        },
        "id": "rcae_zoWKPmR",
        "outputId": "632f5292-aa29-4804-bd06-993563411514"
      },
      "outputs": [
        {
          "data": {
            "image/png": "[encoded data removed]",
            "text/plain": [
              "<Figure size 1200x600 with 1 Axes>"
            ]
          },
          "metadata": {},
          "output_type": "display_data"
        }
      ],
      "source": [
        "# Define the target column\n",
        "target_col = 'weekly_E_kWh'\n",
        "\n",
        "# Compute percentiles (1% and 99%)\n",
        "p1 = np.percentile(data[target_col], 1)\n",
        "p99 = np.percentile(data[target_col], 99)\n",
        "\n",
        "# Compute quartiles and IQR (Interquartile Range)\n",
        "Q1 = data[target_col].quantile(0.25)\n",
        "Q3 = data[target_col].quantile(0.75)\n",
        "IQR = Q3 - Q1\n",
        "\n",
        "# Define the lower and upper bounds for outlier detection\n",
        "lower_bound = Q1 - 1.5 * IQR\n",
        "upper_bound = Q3 + 1.5 * IQR\n",
        "\n",
        "# Plot the distribution with a histogram and density curve\n",
        "plt.figure(figsize=(12,6))\n",
        "sns.histplot(data[target_col], bins=50, kde=True, color='blue', alpha=0.6)\n",
        "\n",
        "# Add vertical lines for outlier thresholds\n",
        "plt.axvline(lower_bound, color='red', linestyle='dashed', label=\"Lower bound (IQR)\")\n",
        "plt.axvline(upper_bound, color='green', linestyle='dashed', label=\"Upper bound (IQR)\")\n",
        "plt.axvline(p1, color='purple', linestyle='dotted', label=\"1% percentile\")\n",
        "plt.axvline(p99, color='orange', linestyle='dotted', label=\"99% percentile\")\n",
        "\n",
        "# Add title and legend\n",
        "plt.title(f\"Distribution of {target_col} with IQR and Percentile Boundaries\")\n",
        "plt.legend()\n",
        "plt.show()"
      ]
    },
    {
      "cell_type": "markdown",
      "metadata": {
        "id": "HR6MYPMPLe3G"
      },
      "source": [
        "The graph shows that `weekly_E_kWh` is highly right-skewed, with most values clustered near zero and a long tail extending toward higher values. The 99th percentile is significantly higher than the IQR upper bound, indicating extreme outliers. The lower bound appears negative, which is unrealistic for energy consumption and should be ignored. These outliers could impact modeling, and applying a log transformation or using robust models might help manage their influence."
      ]
    },
    {
      "cell_type": "markdown",
      "metadata": {
        "id": "MNwdWPhMMNX0"
      },
      "source": [
        "We decide not to do anything about this since some machine learning models like Decision Trees, Random Forests, and Gradient Boosting (XGBoost, LightGBM, CatBoost) handle outliers well."
      ]
    },
    {
      "cell_type": "markdown",
      "metadata": {
        "id": "EBEoYxJSFrsy"
      },
      "source": [
        "### 2.3- Feature Engineering / Encoding\n",
        "\n",
        "For Machine Learning, we need our features to contain only numbers and no \"string\" type. So we need to encode all our non-integer features."
      ]
    },
    {
      "cell_type": "markdown",
      "metadata": {
        "id": "0wyMMnCQRCH9"
      },
      "source": [
        "We copy our dataset in a new dataframe because we will need to use a non-encoded dataframe for the data analysis later:"
      ]
    },
    {
      "cell_type": "code",
      "execution_count": 27,
      "metadata": {
        "id": "33dTiUsNQrCc"
      },
      "outputs": [],
      "source": [
        "final_data = data.copy()"
      ]
    },
    {
      "cell_type": "markdown",
      "metadata": {
        "id": "fElpkTLFRmtI"
      },
      "source": [
        "Let's look at the type of every feature of our dataset:"
      ]
    },
    {
      "cell_type": "code",
      "execution_count": 28,
      "metadata": {
        "colab": {
          "base_uri": "https://localhost:8080/"
        },
        "id": "FvKPpXqfFZkz",
        "outputId": "6b809596-46e7-4b94-b741-188238c16df6"
      },
      "outputs": [
        {
          "name": "stdout",
          "output_type": "stream",
          "text": [
            "<class 'pandas.core.frame.DataFrame'>\n",
            "Index: 30725 entries, 0 to 42287\n",
            "Data columns (total 22 columns):\n",
            " #   Column                      Non-Null Count  Dtype  \n",
            "---  ------                      --------------  -----  \n",
            " 0   year-Wweek                  30725 non-null  object \n",
            " 1   user_id                     30725 non-null  int64  \n",
            " 2   site_id                     30725 non-null  int64  \n",
            " 3   department                  30725 non-null  object \n",
            " 4   nace_code                   30725 non-null  float64\n",
            " 5   insee_code                  30725 non-null  object \n",
            " 6   weekly_E_kWh                30725 non-null  float64\n",
            " 7   weekly_dd_heating_15        30725 non-null  float64\n",
            " 8   weekly_dd_heating_16        30725 non-null  float64\n",
            " 9   weekly_dd_heating_17        30725 non-null  float64\n",
            " 10  weekly_dd_heating_18        30725 non-null  float64\n",
            " 11  weekly_dd_cooling_22        30725 non-null  float64\n",
            " 12  weekly_dd_cooling_23        30725 non-null  float64\n",
            " 13  weekly_dd_cooling_24        30725 non-null  float64\n",
            " 14  weekly_dd_cooling_25        30725 non-null  float64\n",
            " 15  weekly_dd_cooling_26        30725 non-null  float64\n",
            " 16  mean_indoor_temperature_00  30725 non-null  float64\n",
            " 17  max_indoor_temperature_00   30725 non-null  float64\n",
            " 18  min_indoor_temperature_00   30725 non-null  float64\n",
            " 19  mean_indoor_humidity_00     30725 non-null  float64\n",
            " 20  max_indoor_humidity_00      30725 non-null  float64\n",
            " 21  min_indoor_humidity_00      30725 non-null  float64\n",
            "dtypes: float64(17), int64(2), object(3)\n",
            "memory usage: 5.4+ MB\n"
          ]
        }
      ],
      "source": [
        "final_data.info()"
      ]
    },
    {
      "cell_type": "markdown",
      "metadata": {
        "id": "FVKhipOFR7KJ"
      },
      "source": [
        "Let's look at the features that will need to be encoded, the categorical features:"
      ]
    },
    {
      "cell_type": "code",
      "execution_count": 29,
      "metadata": {
        "colab": {
          "base_uri": "https://localhost:8080/"
        },
        "id": "hmce9UZMRr4f",
        "outputId": "a5feb95e-1e3f-4582-ed64-c745f071f265"
      },
      "outputs": [
        {
          "name": "stdout",
          "output_type": "stream",
          "text": [
            "Features that need encoding: ['year-Wweek', 'department', 'insee_code']\n"
          ]
        }
      ],
      "source": [
        "# Identify the categorical features that need encoding\n",
        "categorical_features = final_data.select_dtypes(include=['object']).columns.tolist()\n",
        "\n",
        "# Print the list of features that need encoding\n",
        "print(\"Features that need encoding:\", categorical_features)"
      ]
    },
    {
      "cell_type": "markdown",
      "metadata": {
        "id": "clBS0DisSad6"
      },
      "source": [
        "Let's look at what thoses features look like:"
      ]
    },
    {
      "cell_type": "code",
      "execution_count": 30,
      "metadata": {
        "colab": {
          "base_uri": "https://localhost:8080/",
          "height": 424
        },
        "id": "M_sKqqRYSLsi",
        "outputId": "a2de0eeb-32ad-4564-8897-400f9f43031c"
      },
      "outputs": [
        {
          "data": {
            "text/html": [
              "<div>\n",
              "<style scoped>\n",
              "    .dataframe tbody tr th:only-of-type {\n",
              "        vertical-align: middle;\n",
              "    }\n",
              "\n",
              "    .dataframe tbody tr th {\n",
              "        vertical-align: top;\n",
              "    }\n",
              "\n",
              "    .dataframe thead th {\n",
              "        text-align: right;\n",
              "    }\n",
              "</style>\n",
              "<table border=\"1\" class=\"dataframe\">\n",
              "  <thead>\n",
              "    <tr style=\"text-align: right;\">\n",
              "      <th></th>\n",
              "      <th>year-Wweek</th>\n",
              "      <th>department</th>\n",
              "      <th>insee_code</th>\n",
              "    </tr>\n",
              "  </thead>\n",
              "  <tbody>\n",
              "    <tr>\n",
              "      <th>0</th>\n",
              "      <td>2021-W19</td>\n",
              "      <td>Martinique</td>\n",
              "      <td>97209</td>\n",
              "    </tr>\n",
              "    <tr>\n",
              "      <th>1</th>\n",
              "      <td>2021-W20</td>\n",
              "      <td>Martinique</td>\n",
              "      <td>97209</td>\n",
              "    </tr>\n",
              "    <tr>\n",
              "      <th>2</th>\n",
              "      <td>2021-W21</td>\n",
              "      <td>Martinique</td>\n",
              "      <td>97209</td>\n",
              "    </tr>\n",
              "    <tr>\n",
              "      <th>3</th>\n",
              "      <td>2021-W22</td>\n",
              "      <td>Martinique</td>\n",
              "      <td>97209</td>\n",
              "    </tr>\n",
              "    <tr>\n",
              "      <th>4</th>\n",
              "      <td>2021-W23</td>\n",
              "      <td>Martinique</td>\n",
              "      <td>97209</td>\n",
              "    </tr>\n",
              "    <tr>\n",
              "      <th>...</th>\n",
              "      <td>...</td>\n",
              "      <td>...</td>\n",
              "      <td>...</td>\n",
              "    </tr>\n",
              "    <tr>\n",
              "      <th>42283</th>\n",
              "      <td>2024-W33</td>\n",
              "      <td>Reunion Island</td>\n",
              "      <td>97411</td>\n",
              "    </tr>\n",
              "    <tr>\n",
              "      <th>42284</th>\n",
              "      <td>2024-W34</td>\n",
              "      <td>Reunion Island</td>\n",
              "      <td>97411</td>\n",
              "    </tr>\n",
              "    <tr>\n",
              "      <th>42285</th>\n",
              "      <td>2024-W35</td>\n",
              "      <td>Reunion Island</td>\n",
              "      <td>97411</td>\n",
              "    </tr>\n",
              "    <tr>\n",
              "      <th>42286</th>\n",
              "      <td>2024-W36</td>\n",
              "      <td>Reunion Island</td>\n",
              "      <td>97411</td>\n",
              "    </tr>\n",
              "    <tr>\n",
              "      <th>42287</th>\n",
              "      <td>2024-W37</td>\n",
              "      <td>Reunion Island</td>\n",
              "      <td>97411</td>\n",
              "    </tr>\n",
              "  </tbody>\n",
              "</table>\n",
              "<p>30725 rows × 3 columns</p>\n",
              "</div>"
            ],
            "text/plain": [
              "      year-Wweek      department insee_code\n",
              "0       2021-W19      Martinique      97209\n",
              "1       2021-W20      Martinique      97209\n",
              "2       2021-W21      Martinique      97209\n",
              "3       2021-W22      Martinique      97209\n",
              "4       2021-W23      Martinique      97209\n",
              "...          ...             ...        ...\n",
              "42283   2024-W33  Reunion Island      97411\n",
              "42284   2024-W34  Reunion Island      97411\n",
              "42285   2024-W35  Reunion Island      97411\n",
              "42286   2024-W36  Reunion Island      97411\n",
              "42287   2024-W37  Reunion Island      97411\n",
              "\n",
              "[30725 rows x 3 columns]"
            ]
          },
          "execution_count": 30,
          "metadata": {},
          "output_type": "execute_result"
        }
      ],
      "source": [
        "final_data[categorical_features]"
      ]
    },
    {
      "cell_type": "markdown",
      "metadata": {
        "id": "0oxTz1U8S-_8"
      },
      "source": [
        "Let's count the number of different unique values for thoses features:"
      ]
    },
    {
      "cell_type": "code",
      "execution_count": 31,
      "metadata": {
        "colab": {
          "base_uri": "https://localhost:8080/"
        },
        "id": "OJ3A7-DPSsmi",
        "outputId": "db9226e8-02c0-42ca-fd25-fcef3be06b1e"
      },
      "outputs": [
        {
          "name": "stdout",
          "output_type": "stream",
          "text": [
            "Feature: year-Wweek, Number of different values: 175\n",
            "Feature: department, Number of different values: 6\n",
            "Feature: insee_code, Number of different values: 117\n"
          ]
        }
      ],
      "source": [
        "# Iterate through the categorical features and count the number of unique values\n",
        "for feature in categorical_features:\n",
        "  unique_values_count = final_data[feature].nunique()\n",
        "  print(f\"Feature: {feature}, Number of different values: {unique_values_count}\")"
      ]
    },
    {
      "cell_type": "markdown",
      "metadata": {
        "id": "krYrwMyRG4vT"
      },
      "source": [
        "#### Feature: `year-Wweek`\n",
        "\n",
        "First, let's perform feature engineering on the `year-Wweek` feature. The goal is to extract meaningful components such as the year and the week number. Instead of having a single feature that combines both, which can be difficult for a machine learning model to interpret, we will split it into two separate features: one for the year and one for the week number."
      ]
    },
    {
      "cell_type": "code",
      "execution_count": 32,
      "metadata": {
        "colab": {
          "base_uri": "https://localhost:8080/",
          "height": 256
        },
        "id": "JjqXXLYpH2bQ",
        "outputId": "d756b04d-93b3-49c4-8779-9c3e2b3bfedb"
      },
      "outputs": [
        {
          "data": {
            "text/html": [
              "<div>\n",
              "<style scoped>\n",
              "    .dataframe tbody tr th:only-of-type {\n",
              "        vertical-align: middle;\n",
              "    }\n",
              "\n",
              "    .dataframe tbody tr th {\n",
              "        vertical-align: top;\n",
              "    }\n",
              "\n",
              "    .dataframe thead th {\n",
              "        text-align: right;\n",
              "    }\n",
              "</style>\n",
              "<table border=\"1\" class=\"dataframe\">\n",
              "  <thead>\n",
              "    <tr style=\"text-align: right;\">\n",
              "      <th></th>\n",
              "      <th>year</th>\n",
              "      <th>week</th>\n",
              "      <th>user_id</th>\n",
              "      <th>site_id</th>\n",
              "      <th>department</th>\n",
              "      <th>nace_code</th>\n",
              "      <th>insee_code</th>\n",
              "      <th>weekly_E_kWh</th>\n",
              "      <th>weekly_dd_heating_15</th>\n",
              "      <th>weekly_dd_heating_16</th>\n",
              "      <th>...</th>\n",
              "      <th>weekly_dd_cooling_23</th>\n",
              "      <th>weekly_dd_cooling_24</th>\n",
              "      <th>weekly_dd_cooling_25</th>\n",
              "      <th>weekly_dd_cooling_26</th>\n",
              "      <th>mean_indoor_temperature_00</th>\n",
              "      <th>max_indoor_temperature_00</th>\n",
              "      <th>min_indoor_temperature_00</th>\n",
              "      <th>mean_indoor_humidity_00</th>\n",
              "      <th>max_indoor_humidity_00</th>\n",
              "      <th>min_indoor_humidity_00</th>\n",
              "    </tr>\n",
              "  </thead>\n",
              "  <tbody>\n",
              "    <tr>\n",
              "      <th>0</th>\n",
              "      <td>2021</td>\n",
              "      <td>19</td>\n",
              "      <td>458</td>\n",
              "      <td>513</td>\n",
              "      <td>Martinique</td>\n",
              "      <td>72.19</td>\n",
              "      <td>97209</td>\n",
              "      <td>645.595</td>\n",
              "      <td>0.0</td>\n",
              "      <td>0.0</td>\n",
              "      <td>...</td>\n",
              "      <td>23.782</td>\n",
              "      <td>16.877</td>\n",
              "      <td>10.505</td>\n",
              "      <td>6.140</td>\n",
              "      <td>27.147</td>\n",
              "      <td>28.60</td>\n",
              "      <td>22.37</td>\n",
              "      <td>66.107</td>\n",
              "      <td>75.0</td>\n",
              "      <td>0.0</td>\n",
              "    </tr>\n",
              "    <tr>\n",
              "      <th>1</th>\n",
              "      <td>2021</td>\n",
              "      <td>20</td>\n",
              "      <td>458</td>\n",
              "      <td>513</td>\n",
              "      <td>Martinique</td>\n",
              "      <td>72.19</td>\n",
              "      <td>97209</td>\n",
              "      <td>621.710</td>\n",
              "      <td>0.0</td>\n",
              "      <td>0.0</td>\n",
              "      <td>...</td>\n",
              "      <td>29.014</td>\n",
              "      <td>22.014</td>\n",
              "      <td>15.133</td>\n",
              "      <td>9.265</td>\n",
              "      <td>28.244</td>\n",
              "      <td>29.32</td>\n",
              "      <td>25.16</td>\n",
              "      <td>64.013</td>\n",
              "      <td>69.0</td>\n",
              "      <td>48.0</td>\n",
              "    </tr>\n",
              "    <tr>\n",
              "      <th>2</th>\n",
              "      <td>2021</td>\n",
              "      <td>21</td>\n",
              "      <td>458</td>\n",
              "      <td>513</td>\n",
              "      <td>Martinique</td>\n",
              "      <td>72.19</td>\n",
              "      <td>97209</td>\n",
              "      <td>593.756</td>\n",
              "      <td>0.0</td>\n",
              "      <td>0.0</td>\n",
              "      <td>...</td>\n",
              "      <td>26.712</td>\n",
              "      <td>19.863</td>\n",
              "      <td>13.425</td>\n",
              "      <td>8.437</td>\n",
              "      <td>27.905</td>\n",
              "      <td>28.99</td>\n",
              "      <td>23.71</td>\n",
              "      <td>63.005</td>\n",
              "      <td>73.0</td>\n",
              "      <td>0.0</td>\n",
              "    </tr>\n",
              "    <tr>\n",
              "      <th>3</th>\n",
              "      <td>2021</td>\n",
              "      <td>22</td>\n",
              "      <td>458</td>\n",
              "      <td>513</td>\n",
              "      <td>Martinique</td>\n",
              "      <td>72.19</td>\n",
              "      <td>97209</td>\n",
              "      <td>598.007</td>\n",
              "      <td>0.0</td>\n",
              "      <td>0.0</td>\n",
              "      <td>...</td>\n",
              "      <td>24.759</td>\n",
              "      <td>17.845</td>\n",
              "      <td>11.288</td>\n",
              "      <td>6.280</td>\n",
              "      <td>27.587</td>\n",
              "      <td>29.06</td>\n",
              "      <td>23.48</td>\n",
              "      <td>65.250</td>\n",
              "      <td>73.0</td>\n",
              "      <td>54.0</td>\n",
              "    </tr>\n",
              "    <tr>\n",
              "      <th>4</th>\n",
              "      <td>2021</td>\n",
              "      <td>23</td>\n",
              "      <td>458</td>\n",
              "      <td>513</td>\n",
              "      <td>Martinique</td>\n",
              "      <td>72.19</td>\n",
              "      <td>97209</td>\n",
              "      <td>616.960</td>\n",
              "      <td>0.0</td>\n",
              "      <td>0.0</td>\n",
              "      <td>...</td>\n",
              "      <td>26.923</td>\n",
              "      <td>19.925</td>\n",
              "      <td>13.151</td>\n",
              "      <td>7.506</td>\n",
              "      <td>27.454</td>\n",
              "      <td>29.17</td>\n",
              "      <td>23.68</td>\n",
              "      <td>69.894</td>\n",
              "      <td>76.0</td>\n",
              "      <td>55.0</td>\n",
              "    </tr>\n",
              "  </tbody>\n",
              "</table>\n",
              "<p>5 rows × 23 columns</p>\n",
              "</div>"
            ],
            "text/plain": [
              "   year  week  user_id  site_id  department  nace_code insee_code  \\\n",
              "0  2021    19      458      513  Martinique      72.19      97209   \n",
              "1  2021    20      458      513  Martinique      72.19      97209   \n",
              "2  2021    21      458      513  Martinique      72.19      97209   \n",
              "3  2021    22      458      513  Martinique      72.19      97209   \n",
              "4  2021    23      458      513  Martinique      72.19      97209   \n",
              "\n",
              "   weekly_E_kWh  weekly_dd_heating_15  weekly_dd_heating_16  ...  \\\n",
              "0       645.595                   0.0                   0.0  ...   \n",
              "1       621.710                   0.0                   0.0  ...   \n",
              "2       593.756                   0.0                   0.0  ...   \n",
              "3       598.007                   0.0                   0.0  ...   \n",
              "4       616.960                   0.0                   0.0  ...   \n",
              "\n",
              "   weekly_dd_cooling_23  weekly_dd_cooling_24  weekly_dd_cooling_25  \\\n",
              "0                23.782                16.877                10.505   \n",
              "1                29.014                22.014                15.133   \n",
              "2                26.712                19.863                13.425   \n",
              "3                24.759                17.845                11.288   \n",
              "4                26.923                19.925                13.151   \n",
              "\n",
              "   weekly_dd_cooling_26  mean_indoor_temperature_00  \\\n",
              "0                 6.140                      27.147   \n",
              "1                 9.265                      28.244   \n",
              "2                 8.437                      27.905   \n",
              "3                 6.280                      27.587   \n",
              "4                 7.506                      27.454   \n",
              "\n",
              "   max_indoor_temperature_00  min_indoor_temperature_00  \\\n",
              "0                      28.60                      22.37   \n",
              "1                      29.32                      25.16   \n",
              "2                      28.99                      23.71   \n",
              "3                      29.06                      23.48   \n",
              "4                      29.17                      23.68   \n",
              "\n",
              "   mean_indoor_humidity_00  max_indoor_humidity_00  min_indoor_humidity_00  \n",
              "0                   66.107                    75.0                     0.0  \n",
              "1                   64.013                    69.0                    48.0  \n",
              "2                   63.005                    73.0                     0.0  \n",
              "3                   65.250                    73.0                    54.0  \n",
              "4                   69.894                    76.0                    55.0  \n",
              "\n",
              "[5 rows x 23 columns]"
            ]
          },
          "execution_count": 32,
          "metadata": {},
          "output_type": "execute_result"
        }
      ],
      "source": [
        "# Extract year and week number from 'year-Wweek'\n",
        "final_data['year'] = final_data['year-Wweek'].str.split('-W').str[0].astype(int)\n",
        "final_data['week'] = final_data['year-Wweek'].str.split('-W').str[1].astype(int)\n",
        "\n",
        "# Reorder the columns to place 'year' and 'week' at the beginning\n",
        "cols = ['year', 'week'] + [col for col in final_data.columns if col not in ['year', 'week', 'year-Wweek']]\n",
        "final_data = final_data[cols]\n",
        "\n",
        "final_data.head()"
      ]
    },
    {
      "cell_type": "markdown",
      "metadata": {
        "id": "6LVex6gFJJQx"
      },
      "source": [
        "#### Features: `department` and `insee_code`\n",
        "\n",
        "Second, let's perform feature encoding on the `department` and the `insee_code` features. The goal is to encode the those two features because it is the only way they can be used for machine learning models."
      ]
    },
    {
      "cell_type": "code",
      "execution_count": 33,
      "metadata": {
        "colab": {
          "base_uri": "https://localhost:8080/",
          "height": 256
        },
        "id": "M1cP_9Q0JjLM",
        "outputId": "b0be63d6-e103-4355-af9c-1ff61e08192a"
      },
      "outputs": [
        {
          "data": {
            "text/html": [
              "<div>\n",
              "<style scoped>\n",
              "    .dataframe tbody tr th:only-of-type {\n",
              "        vertical-align: middle;\n",
              "    }\n",
              "\n",
              "    .dataframe tbody tr th {\n",
              "        vertical-align: top;\n",
              "    }\n",
              "\n",
              "    .dataframe thead th {\n",
              "        text-align: right;\n",
              "    }\n",
              "</style>\n",
              "<table border=\"1\" class=\"dataframe\">\n",
              "  <thead>\n",
              "    <tr style=\"text-align: right;\">\n",
              "      <th></th>\n",
              "      <th>year</th>\n",
              "      <th>week</th>\n",
              "      <th>user_id</th>\n",
              "      <th>site_id</th>\n",
              "      <th>department_encoded</th>\n",
              "      <th>insee_code_encoded</th>\n",
              "      <th>nace_code</th>\n",
              "      <th>weekly_E_kWh</th>\n",
              "      <th>weekly_dd_heating_15</th>\n",
              "      <th>weekly_dd_heating_16</th>\n",
              "      <th>...</th>\n",
              "      <th>weekly_dd_cooling_23</th>\n",
              "      <th>weekly_dd_cooling_24</th>\n",
              "      <th>weekly_dd_cooling_25</th>\n",
              "      <th>weekly_dd_cooling_26</th>\n",
              "      <th>mean_indoor_temperature_00</th>\n",
              "      <th>max_indoor_temperature_00</th>\n",
              "      <th>min_indoor_temperature_00</th>\n",
              "      <th>mean_indoor_humidity_00</th>\n",
              "      <th>max_indoor_humidity_00</th>\n",
              "      <th>min_indoor_humidity_00</th>\n",
              "    </tr>\n",
              "  </thead>\n",
              "  <tbody>\n",
              "    <tr>\n",
              "      <th>0</th>\n",
              "      <td>2021</td>\n",
              "      <td>19</td>\n",
              "      <td>458</td>\n",
              "      <td>513</td>\n",
              "      <td>3</td>\n",
              "      <td>60</td>\n",
              "      <td>72.19</td>\n",
              "      <td>645.595</td>\n",
              "      <td>0.0</td>\n",
              "      <td>0.0</td>\n",
              "      <td>...</td>\n",
              "      <td>23.782</td>\n",
              "      <td>16.877</td>\n",
              "      <td>10.505</td>\n",
              "      <td>6.140</td>\n",
              "      <td>27.147</td>\n",
              "      <td>28.60</td>\n",
              "      <td>22.37</td>\n",
              "      <td>66.107</td>\n",
              "      <td>75.0</td>\n",
              "      <td>0.0</td>\n",
              "    </tr>\n",
              "    <tr>\n",
              "      <th>1</th>\n",
              "      <td>2021</td>\n",
              "      <td>20</td>\n",
              "      <td>458</td>\n",
              "      <td>513</td>\n",
              "      <td>3</td>\n",
              "      <td>60</td>\n",
              "      <td>72.19</td>\n",
              "      <td>621.710</td>\n",
              "      <td>0.0</td>\n",
              "      <td>0.0</td>\n",
              "      <td>...</td>\n",
              "      <td>29.014</td>\n",
              "      <td>22.014</td>\n",
              "      <td>15.133</td>\n",
              "      <td>9.265</td>\n",
              "      <td>28.244</td>\n",
              "      <td>29.32</td>\n",
              "      <td>25.16</td>\n",
              "      <td>64.013</td>\n",
              "      <td>69.0</td>\n",
              "      <td>48.0</td>\n",
              "    </tr>\n",
              "    <tr>\n",
              "      <th>2</th>\n",
              "      <td>2021</td>\n",
              "      <td>21</td>\n",
              "      <td>458</td>\n",
              "      <td>513</td>\n",
              "      <td>3</td>\n",
              "      <td>60</td>\n",
              "      <td>72.19</td>\n",
              "      <td>593.756</td>\n",
              "      <td>0.0</td>\n",
              "      <td>0.0</td>\n",
              "      <td>...</td>\n",
              "      <td>26.712</td>\n",
              "      <td>19.863</td>\n",
              "      <td>13.425</td>\n",
              "      <td>8.437</td>\n",
              "      <td>27.905</td>\n",
              "      <td>28.99</td>\n",
              "      <td>23.71</td>\n",
              "      <td>63.005</td>\n",
              "      <td>73.0</td>\n",
              "      <td>0.0</td>\n",
              "    </tr>\n",
              "    <tr>\n",
              "      <th>3</th>\n",
              "      <td>2021</td>\n",
              "      <td>22</td>\n",
              "      <td>458</td>\n",
              "      <td>513</td>\n",
              "      <td>3</td>\n",
              "      <td>60</td>\n",
              "      <td>72.19</td>\n",
              "      <td>598.007</td>\n",
              "      <td>0.0</td>\n",
              "      <td>0.0</td>\n",
              "      <td>...</td>\n",
              "      <td>24.759</td>\n",
              "      <td>17.845</td>\n",
              "      <td>11.288</td>\n",
              "      <td>6.280</td>\n",
              "      <td>27.587</td>\n",
              "      <td>29.06</td>\n",
              "      <td>23.48</td>\n",
              "      <td>65.250</td>\n",
              "      <td>73.0</td>\n",
              "      <td>54.0</td>\n",
              "    </tr>\n",
              "    <tr>\n",
              "      <th>4</th>\n",
              "      <td>2021</td>\n",
              "      <td>23</td>\n",
              "      <td>458</td>\n",
              "      <td>513</td>\n",
              "      <td>3</td>\n",
              "      <td>60</td>\n",
              "      <td>72.19</td>\n",
              "      <td>616.960</td>\n",
              "      <td>0.0</td>\n",
              "      <td>0.0</td>\n",
              "      <td>...</td>\n",
              "      <td>26.923</td>\n",
              "      <td>19.925</td>\n",
              "      <td>13.151</td>\n",
              "      <td>7.506</td>\n",
              "      <td>27.454</td>\n",
              "      <td>29.17</td>\n",
              "      <td>23.68</td>\n",
              "      <td>69.894</td>\n",
              "      <td>76.0</td>\n",
              "      <td>55.0</td>\n",
              "    </tr>\n",
              "  </tbody>\n",
              "</table>\n",
              "<p>5 rows × 23 columns</p>\n",
              "</div>"
            ],
            "text/plain": [
              "   year  week  user_id  site_id  department_encoded  insee_code_encoded  \\\n",
              "0  2021    19      458      513                   3                  60   \n",
              "1  2021    20      458      513                   3                  60   \n",
              "2  2021    21      458      513                   3                  60   \n",
              "3  2021    22      458      513                   3                  60   \n",
              "4  2021    23      458      513                   3                  60   \n",
              "\n",
              "   nace_code  weekly_E_kWh  weekly_dd_heating_15  weekly_dd_heating_16  ...  \\\n",
              "0      72.19       645.595                   0.0                   0.0  ...   \n",
              "1      72.19       621.710                   0.0                   0.0  ...   \n",
              "2      72.19       593.756                   0.0                   0.0  ...   \n",
              "3      72.19       598.007                   0.0                   0.0  ...   \n",
              "4      72.19       616.960                   0.0                   0.0  ...   \n",
              "\n",
              "   weekly_dd_cooling_23  weekly_dd_cooling_24  weekly_dd_cooling_25  \\\n",
              "0                23.782                16.877                10.505   \n",
              "1                29.014                22.014                15.133   \n",
              "2                26.712                19.863                13.425   \n",
              "3                24.759                17.845                11.288   \n",
              "4                26.923                19.925                13.151   \n",
              "\n",
              "   weekly_dd_cooling_26  mean_indoor_temperature_00  \\\n",
              "0                 6.140                      27.147   \n",
              "1                 9.265                      28.244   \n",
              "2                 8.437                      27.905   \n",
              "3                 6.280                      27.587   \n",
              "4                 7.506                      27.454   \n",
              "\n",
              "   max_indoor_temperature_00  min_indoor_temperature_00  \\\n",
              "0                      28.60                      22.37   \n",
              "1                      29.32                      25.16   \n",
              "2                      28.99                      23.71   \n",
              "3                      29.06                      23.48   \n",
              "4                      29.17                      23.68   \n",
              "\n",
              "   mean_indoor_humidity_00  max_indoor_humidity_00  min_indoor_humidity_00  \n",
              "0                   66.107                    75.0                     0.0  \n",
              "1                   64.013                    69.0                    48.0  \n",
              "2                   63.005                    73.0                     0.0  \n",
              "3                   65.250                    73.0                    54.0  \n",
              "4                   69.894                    76.0                    55.0  \n",
              "\n",
              "[5 rows x 23 columns]"
            ]
          },
          "execution_count": 33,
          "metadata": {},
          "output_type": "execute_result"
        }
      ],
      "source": [
        "# Create a LabelEncoder object\n",
        "label_encoder_department = LabelEncoder()\n",
        "label_encoder_insee_code = LabelEncoder()\n",
        "\n",
        "# Fit and transform the 'department' column\n",
        "final_data['department_encoded'] = label_encoder_department.fit_transform(final_data['department'])\n",
        "\n",
        "# Fit and transform the 'insee_code' column\n",
        "final_data['insee_code_encoded'] = label_encoder_insee_code.fit_transform(final_data['insee_code'])\n",
        "\n",
        "# Replace the original columns with the encoded ones\n",
        "final_data = final_data.drop(['department', 'insee_code'], axis=1)\n",
        "\n",
        "# Reorder columns to put encoded features where the original ones were.\n",
        "cols = list(final_data.columns)\n",
        "cols.remove('department_encoded')\n",
        "cols.remove('insee_code_encoded')\n",
        "new_cols = cols[:4] + ['department_encoded', 'insee_code_encoded'] + cols[4:]\n",
        "final_data = final_data[new_cols]\n",
        "\n",
        "final_data.head()"
      ]
    },
    {
      "cell_type": "markdown",
      "metadata": {
        "id": "KpmOXRu_NYnI"
      },
      "source": [
        "### 2.4- Other\n"
      ]
    },
    {
      "cell_type": "markdown",
      "metadata": {
        "id": "XN8PdDLoQAsa"
      },
      "source": [
        "Let's put our target feature as the last column in our dataset:"
      ]
    },
    {
      "cell_type": "code",
      "execution_count": 34,
      "metadata": {
        "id": "j3Snk7M9PplH"
      },
      "outputs": [],
      "source": [
        "cols = final_data.columns.tolist()\n",
        "cols.remove('weekly_E_kWh')\n",
        "cols.append('weekly_E_kWh')\n",
        "final_data = final_data[cols]"
      ]
    },
    {
      "cell_type": "markdown",
      "metadata": {
        "id": "Wjp1zU5qQLEP"
      },
      "source": [
        "Here is the result:"
      ]
    },
    {
      "cell_type": "code",
      "execution_count": 35,
      "metadata": {
        "colab": {
          "base_uri": "https://localhost:8080/",
          "height": 256
        },
        "id": "9e-XIRAkPzYg",
        "outputId": "fddc0b9b-bb4a-4a47-9b77-5de42c995614"
      },
      "outputs": [
        {
          "data": {
            "text/html": [
              "<div>\n",
              "<style scoped>\n",
              "    .dataframe tbody tr th:only-of-type {\n",
              "        vertical-align: middle;\n",
              "    }\n",
              "\n",
              "    .dataframe tbody tr th {\n",
              "        vertical-align: top;\n",
              "    }\n",
              "\n",
              "    .dataframe thead th {\n",
              "        text-align: right;\n",
              "    }\n",
              "</style>\n",
              "<table border=\"1\" class=\"dataframe\">\n",
              "  <thead>\n",
              "    <tr style=\"text-align: right;\">\n",
              "      <th></th>\n",
              "      <th>year</th>\n",
              "      <th>week</th>\n",
              "      <th>user_id</th>\n",
              "      <th>site_id</th>\n",
              "      <th>department_encoded</th>\n",
              "      <th>insee_code_encoded</th>\n",
              "      <th>nace_code</th>\n",
              "      <th>weekly_dd_heating_15</th>\n",
              "      <th>weekly_dd_heating_16</th>\n",
              "      <th>weekly_dd_heating_17</th>\n",
              "      <th>...</th>\n",
              "      <th>weekly_dd_cooling_24</th>\n",
              "      <th>weekly_dd_cooling_25</th>\n",
              "      <th>weekly_dd_cooling_26</th>\n",
              "      <th>mean_indoor_temperature_00</th>\n",
              "      <th>max_indoor_temperature_00</th>\n",
              "      <th>min_indoor_temperature_00</th>\n",
              "      <th>mean_indoor_humidity_00</th>\n",
              "      <th>max_indoor_humidity_00</th>\n",
              "      <th>min_indoor_humidity_00</th>\n",
              "      <th>weekly_E_kWh</th>\n",
              "    </tr>\n",
              "  </thead>\n",
              "  <tbody>\n",
              "    <tr>\n",
              "      <th>0</th>\n",
              "      <td>2021</td>\n",
              "      <td>19</td>\n",
              "      <td>458</td>\n",
              "      <td>513</td>\n",
              "      <td>3</td>\n",
              "      <td>60</td>\n",
              "      <td>72.19</td>\n",
              "      <td>0.0</td>\n",
              "      <td>0.0</td>\n",
              "      <td>0.0</td>\n",
              "      <td>...</td>\n",
              "      <td>16.877</td>\n",
              "      <td>10.505</td>\n",
              "      <td>6.140</td>\n",
              "      <td>27.147</td>\n",
              "      <td>28.60</td>\n",
              "      <td>22.37</td>\n",
              "      <td>66.107</td>\n",
              "      <td>75.0</td>\n",
              "      <td>0.0</td>\n",
              "      <td>645.595</td>\n",
              "    </tr>\n",
              "    <tr>\n",
              "      <th>1</th>\n",
              "      <td>2021</td>\n",
              "      <td>20</td>\n",
              "      <td>458</td>\n",
              "      <td>513</td>\n",
              "      <td>3</td>\n",
              "      <td>60</td>\n",
              "      <td>72.19</td>\n",
              "      <td>0.0</td>\n",
              "      <td>0.0</td>\n",
              "      <td>0.0</td>\n",
              "      <td>...</td>\n",
              "      <td>22.014</td>\n",
              "      <td>15.133</td>\n",
              "      <td>9.265</td>\n",
              "      <td>28.244</td>\n",
              "      <td>29.32</td>\n",
              "      <td>25.16</td>\n",
              "      <td>64.013</td>\n",
              "      <td>69.0</td>\n",
              "      <td>48.0</td>\n",
              "      <td>621.710</td>\n",
              "    </tr>\n",
              "    <tr>\n",
              "      <th>2</th>\n",
              "      <td>2021</td>\n",
              "      <td>21</td>\n",
              "      <td>458</td>\n",
              "      <td>513</td>\n",
              "      <td>3</td>\n",
              "      <td>60</td>\n",
              "      <td>72.19</td>\n",
              "      <td>0.0</td>\n",
              "      <td>0.0</td>\n",
              "      <td>0.0</td>\n",
              "      <td>...</td>\n",
              "      <td>19.863</td>\n",
              "      <td>13.425</td>\n",
              "      <td>8.437</td>\n",
              "      <td>27.905</td>\n",
              "      <td>28.99</td>\n",
              "      <td>23.71</td>\n",
              "      <td>63.005</td>\n",
              "      <td>73.0</td>\n",
              "      <td>0.0</td>\n",
              "      <td>593.756</td>\n",
              "    </tr>\n",
              "    <tr>\n",
              "      <th>3</th>\n",
              "      <td>2021</td>\n",
              "      <td>22</td>\n",
              "      <td>458</td>\n",
              "      <td>513</td>\n",
              "      <td>3</td>\n",
              "      <td>60</td>\n",
              "      <td>72.19</td>\n",
              "      <td>0.0</td>\n",
              "      <td>0.0</td>\n",
              "      <td>0.0</td>\n",
              "      <td>...</td>\n",
              "      <td>17.845</td>\n",
              "      <td>11.288</td>\n",
              "      <td>6.280</td>\n",
              "      <td>27.587</td>\n",
              "      <td>29.06</td>\n",
              "      <td>23.48</td>\n",
              "      <td>65.250</td>\n",
              "      <td>73.0</td>\n",
              "      <td>54.0</td>\n",
              "      <td>598.007</td>\n",
              "    </tr>\n",
              "    <tr>\n",
              "      <th>4</th>\n",
              "      <td>2021</td>\n",
              "      <td>23</td>\n",
              "      <td>458</td>\n",
              "      <td>513</td>\n",
              "      <td>3</td>\n",
              "      <td>60</td>\n",
              "      <td>72.19</td>\n",
              "      <td>0.0</td>\n",
              "      <td>0.0</td>\n",
              "      <td>0.0</td>\n",
              "      <td>...</td>\n",
              "      <td>19.925</td>\n",
              "      <td>13.151</td>\n",
              "      <td>7.506</td>\n",
              "      <td>27.454</td>\n",
              "      <td>29.17</td>\n",
              "      <td>23.68</td>\n",
              "      <td>69.894</td>\n",
              "      <td>76.0</td>\n",
              "      <td>55.0</td>\n",
              "      <td>616.960</td>\n",
              "    </tr>\n",
              "  </tbody>\n",
              "</table>\n",
              "<p>5 rows × 23 columns</p>\n",
              "</div>"
            ],
            "text/plain": [
              "   year  week  user_id  site_id  department_encoded  insee_code_encoded  \\\n",
              "0  2021    19      458      513                   3                  60   \n",
              "1  2021    20      458      513                   3                  60   \n",
              "2  2021    21      458      513                   3                  60   \n",
              "3  2021    22      458      513                   3                  60   \n",
              "4  2021    23      458      513                   3                  60   \n",
              "\n",
              "   nace_code  weekly_dd_heating_15  weekly_dd_heating_16  \\\n",
              "0      72.19                   0.0                   0.0   \n",
              "1      72.19                   0.0                   0.0   \n",
              "2      72.19                   0.0                   0.0   \n",
              "3      72.19                   0.0                   0.0   \n",
              "4      72.19                   0.0                   0.0   \n",
              "\n",
              "   weekly_dd_heating_17  ...  weekly_dd_cooling_24  weekly_dd_cooling_25  \\\n",
              "0                   0.0  ...                16.877                10.505   \n",
              "1                   0.0  ...                22.014                15.133   \n",
              "2                   0.0  ...                19.863                13.425   \n",
              "3                   0.0  ...                17.845                11.288   \n",
              "4                   0.0  ...                19.925                13.151   \n",
              "\n",
              "   weekly_dd_cooling_26  mean_indoor_temperature_00  \\\n",
              "0                 6.140                      27.147   \n",
              "1                 9.265                      28.244   \n",
              "2                 8.437                      27.905   \n",
              "3                 6.280                      27.587   \n",
              "4                 7.506                      27.454   \n",
              "\n",
              "   max_indoor_temperature_00  min_indoor_temperature_00  \\\n",
              "0                      28.60                      22.37   \n",
              "1                      29.32                      25.16   \n",
              "2                      28.99                      23.71   \n",
              "3                      29.06                      23.48   \n",
              "4                      29.17                      23.68   \n",
              "\n",
              "   mean_indoor_humidity_00  max_indoor_humidity_00  min_indoor_humidity_00  \\\n",
              "0                   66.107                    75.0                     0.0   \n",
              "1                   64.013                    69.0                    48.0   \n",
              "2                   63.005                    73.0                     0.0   \n",
              "3                   65.250                    73.0                    54.0   \n",
              "4                   69.894                    76.0                    55.0   \n",
              "\n",
              "   weekly_E_kWh  \n",
              "0       645.595  \n",
              "1       621.710  \n",
              "2       593.756  \n",
              "3       598.007  \n",
              "4       616.960  \n",
              "\n",
              "[5 rows x 23 columns]"
            ]
          },
          "execution_count": 35,
          "metadata": {},
          "output_type": "execute_result"
        }
      ],
      "source": [
        "final_data.head()"
      ]
    },
    {
      "cell_type": "markdown",
      "metadata": {
        "id": "pRoUQ-1iQNrb"
      },
      "source": [
        "This is our final dataset."
      ]
    },
    {
      "cell_type": "markdown",
      "metadata": {
        "id": "WDLpDvcg0jWU"
      },
      "source": [
        "# **Phase 2: Analysis and Modeling**\n",
        "\n",
        "Objective: Explore the data and create models adapted to the issues identified."
      ]
    },
    {
      "cell_type": "markdown",
      "metadata": {
        "id": "8PDI-wHx0xHL"
      },
      "source": [
        "## 1- Exploratory data analysis (EDA)\n",
        "\n",
        "*- Identify main trends, consumption patterns, anomalies and correlations with other variables (e.g. temperature, days of the week, special events).*\n",
        "\n",
        "*- Visualize these results in simple, relevant graphs (trend curves, histograms, scatter diagrams, etc.).*"
      ]
    },
    {
      "cell_type": "markdown",
      "metadata": {
        "id": "EXHXNZvHWLem"
      },
      "source": [
        "### **Average weekly energy consumption per type of activity of the company**"
      ]
    },
    {
      "cell_type": "code",
      "execution_count": 36,
      "metadata": {
        "colab": {
          "base_uri": "https://localhost:8080/",
          "height": 607
        },
        "id": "zXRDag7DVLNo",
        "outputId": "3df5caa7-3158-419e-b471-2cfb8f7528a8"
      },
      "outputs": [
        {
          "data": {
            "image/png": "[encoded data removed]",
            "text/plain": [
              "<Figure size 1200x600 with 1 Axes>"
            ]
          },
          "metadata": {},
          "output_type": "display_data"
        }
      ],
      "source": [
        "# Compute the mean weekly_E_kWh for each nace_code\n",
        "mean_consumption = data.groupby('nace_code')['weekly_E_kWh'].mean().reset_index()\n",
        "\n",
        "# Rename the column for clarity\n",
        "mean_consumption.rename(columns={'weekly_E_kWh': 'mean_weekly_E_kWh'}, inplace=True)\n",
        "\n",
        "# Plot the results\n",
        "plt.figure(figsize=(12, 6))\n",
        "plt.bar(mean_consumption['nace_code'], mean_consumption['mean_weekly_E_kWh'], color='blue', alpha=0.7)\n",
        "plt.xlabel(\"User ID\")\n",
        "plt.ylabel(\"Mean Weekly Energy Consumption (kWh)\")\n",
        "plt.title(\"Average Weekly Energy Consumption per type of activity of the company\")\n",
        "plt.xticks(rotation=45)\n",
        "plt.tight_layout()\n",
        "plt.show()"
      ]
    },
    {
      "cell_type": "markdown",
      "metadata": {
        "id": "HEWkd91lVOfF"
      },
      "source": [
        "### **Average weekly energy consumption per user**"
      ]
    },
    {
      "cell_type": "code",
      "execution_count": 37,
      "metadata": {
        "colab": {
          "base_uri": "https://localhost:8080/",
          "height": 607
        },
        "id": "Dr1JAFViUjrT",
        "outputId": "abd3be88-d7ef-48a8-a40b-5975e1d6783d"
      },
      "outputs": [
        {
          "data": {
            "image/png": "[encoded data removed]",
            "text/plain": [
              "<Figure size 1200x600 with 1 Axes>"
            ]
          },
          "metadata": {},
          "output_type": "display_data"
        }
      ],
      "source": [
        "# Compute the mean weekly_E_kWh for each user_id\n",
        "mean_consumption = data.groupby('user_id')['weekly_E_kWh'].mean().reset_index()\n",
        "\n",
        "# Rename the column for clarity\n",
        "mean_consumption.rename(columns={'weekly_E_kWh': 'mean_weekly_E_kWh'}, inplace=True)\n",
        "\n",
        "# Plot the results\n",
        "plt.figure(figsize=(12, 6))\n",
        "plt.bar(mean_consumption['user_id'], mean_consumption['mean_weekly_E_kWh'], color='blue', alpha=0.7)\n",
        "plt.xlabel(\"User ID\")\n",
        "plt.ylabel(\"Mean Weekly Energy Consumption (kWh)\")\n",
        "plt.title(\"Average Weekly Energy Consumption per User\")\n",
        "plt.xticks(rotation=45)\n",
        "plt.tight_layout()\n",
        "plt.show()\n"
      ]
    },
    {
      "cell_type": "markdown",
      "metadata": {
        "id": "lEOYm2-8U83i"
      },
      "source": [
        "It is evident that one user consumes significantly more energy than the others."
      ]
    },
    {
      "cell_type": "markdown",
      "metadata": {
        "id": "YjlenIUn0-A3"
      },
      "source": [
        "## 2- Modeling\n",
        "\n",
        "*- Predictive model: Build a model that predicts energy consumption based on the factors identified.*\n",
        "\n",
        "*- Anomaly detection: Develop a model to identify atypical consumption periods or energy peaks.*\n",
        "\n",
        "*- Classification: Identify consumption periods (e.g. days with high consumption, peak hours).*\n",
        "\n",
        "*- Students can choose from several techniques: regression, clustering, time series, or others depending on the nature of the data.*"
      ]
    },
    {
      "cell_type": "markdown",
      "metadata": {
        "id": "v4g7qXVi1OL_"
      },
      "source": [
        "## 3- Model Evaluation and Optimization\n",
        "\n",
        "*- Test and compare model performance using appropriate evaluation criteria (e.g. accuracy, RMSE, etc.).*\n",
        "\n",
        "*- Optimize models to improve accuracy or relevance of results.*"
      ]
    },
    {
      "cell_type": "markdown",
      "metadata": {
        "id": "Qg2cwgtlL0IC"
      },
      "source": [
        "# **Phase 3: Visualization and presentation of results**\n",
        "\n",
        "Objective: Communicate results clearly and concisely."
      ]
    },
    {
      "cell_type": "markdown",
      "metadata": {
        "id": "Xfsdr71vL5Vo"
      },
      "source": [
        "## 1- Creating a dashboard\n",
        "\n",
        "*- Develop an interactive dashboard to visualize the results of analyses and models, for example :*\n",
        "  - Estimated energy consumption.\n",
        "  - Detection of consumption peaks.\n",
        "  - Classification or clustering results.\n",
        "\n",
        "*- Free choice of visualization tools (e.g. Tableau, Power BI, etc.).*"
      ]
    },
    {
      "cell_type": "markdown",
      "metadata": {
        "id": "zGmMDqNqMaTA"
      },
      "source": [
        "**This part is done in another code named ...**"
      ]
    },
    {
      "cell_type": "markdown",
      "metadata": {
        "id": "t9LvrpAlMPeI"
      },
      "source": [
        "## 2- Preparing the final presentation\n",
        "\n",
        "*- Context and challenges: Explain business needs and energy consumption issues.*\n",
        "\n",
        "*- Methodological approach: Describe the steps taken, choice of tools, data collection, preparation, analyses performed and models developed...*\n",
        "\n",
        "*- Presentation of results and insights*\n",
        "\n",
        "*- Recommendations : Propose concrete actions based on the results of the analyses, as optimization levers for managing energy consumption.*"
      ]
    },
    {
      "cell_type": "markdown",
      "metadata": {
        "id": "ph4576QXMhiP"
      },
      "source": [
        "**This part is done in a PDF file named ...**"
      ]
    }
  ],
  "metadata": {
    "colab": {
      "provenance": [],
      "toc_visible": true
    },
    "kernelspec": {
      "display_name": "Python 3",
      "name": "python3"
    },
    "language_info": {
      "codemirror_mode": {
        "name": "ipython",
        "version": 3
      },
      "file_extension": ".py",
      "mimetype": "text/x-python",
      "name": "python",
      "nbconvert_exporter": "python",
      "pygments_lexer": "ipython3",
      "version": "3.13.2"
    }
  },
  "nbformat": 4,
  "nbformat_minor": 0
}
